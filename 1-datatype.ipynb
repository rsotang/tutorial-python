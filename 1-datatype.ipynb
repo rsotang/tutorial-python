{
 "metadata": {
  "language_info": {
   "codemirror_mode": {
    "name": "ipython",
    "version": 3
   },
   "file_extension": ".py",
   "mimetype": "text/x-python",
   "name": "python",
   "nbconvert_exporter": "python",
   "pygments_lexer": "ipython3",
   "version": "3.9.0-final"
  },
  "orig_nbformat": 2,
  "kernelspec": {
   "name": "python3",
   "display_name": "Python 3.9.0 64-bit",
   "metadata": {
    "interpreter": {
     "hash": "8b50c36b1a33f6cb46e2526f835ef1ab8287e96c456ed044702ee8742d8def96"
    }
   }
  }
 },
 "nbformat": 4,
 "nbformat_minor": 2,
 "cells": [
  {
   "source": [
    "# Tipos de datos"
   ],
   "cell_type": "markdown",
   "metadata": {}
  },
  {
   "source": [
    "Al distinto que en C, no es necesario declarar tipos una variable para signarle datos de memoria. \n",
    "Se pueden hacer comando con datos per se ."
   ],
   "cell_type": "markdown",
   "metadata": {}
  },
  {
   "cell_type": "code",
   "execution_count": 1,
   "metadata": {},
   "outputs": [
    {
     "output_type": "stream",
     "name": "stdout",
     "text": [
      "HOLA BUENAS TARDES\n<class 'str'>\nhola buenas tardes\n<class 'str'>\n10\n<class 'int'>\n0.0015\n<class 'float'>\n10.0015\n<class 'float'>\n<class 'bool'>\n[1, 2, 3, 5]\n<class 'list'>\n[1.11, 2, 17, 5.13, 7.15]\n<class 'list'>\n['hola buenas tardes', 'eeeeey', 'venga hasta luego', 'el pepe']\n<class 'list'>\n[1, 1.752555, 'este sech', True]\n<class 'list'>\n(25, 15)\n<class 'tuple'>\n{'este': 'sech', 'el': 'pepe', 'caca': 'culo'}\n<class 'dict'>\n"
     ]
    },
    {
     "output_type": "execute_result",
     "data": {
      "text/plain": [
       "NoneType"
      ]
     },
     "metadata": {},
     "execution_count": 1
    }
   ],
   "source": [
    "#String, pueden ir acompañadas de cualquier tipo de comillas\n",
    "print(\"HOLA BUENAS TARDES\")\n",
    "print(type(\"Hola buenas tardes\"))\n",
    "print('hola buenas tardes')\n",
    "print(type('hola buenas tardes'))\n",
    "\n",
    "#tipos numericos\n",
    "#int entero, decimal float\n",
    "print(10)\n",
    "print(type(10))\n",
    "print(0.0015)\n",
    "print(type(0.0015))\n",
    "print(10+0.0015)\n",
    "print(type(10+0.0015) )\n",
    "\n",
    "#datos lógicos booleanos valen como 1 o 0\n",
    "\n",
    "True\n",
    "False\n",
    "print(type(True)) \n",
    "\n",
    "#listas o arrays\n",
    "a=[1,2,3,5] #array de enteros\n",
    "b=[1.11,2,17,5.13,7.15] #array de float\n",
    "c=[\"hola buenas tardes\",\"eeeeey\",\"venga hasta luego\", \"el pepe\"] #array de strings, creo que en c es más dificil definirlos\n",
    "d=[1,1.752555,\"este sech\",True]\n",
    "print(a)\n",
    "print(type(a))\n",
    "print(b)\n",
    "print (type(b))\n",
    "print(c)\n",
    "print(type(c)) \n",
    "print(d)\n",
    "print(type(d)) #todas las listas son el mismo tipo de dato pero se pueden crear con todos otros tipos de datos\n",
    "\n",
    "#tuplas. son arrays constantes de algún tipo, entiendo que no son redefinibles\n",
    "(25,15)\n",
    "print((25,15))\n",
    "print(type((25,15)))\n",
    "\n",
    "#diccionarios, parecen arrays multidimensionales con claves : valores\n",
    "#todavia no entiendo muy bien como funcionan o como y para que usarlos  \n",
    "e= {\"este\":\"sech\", \"el\": \"pepe\", \"caca\" :\"culo\"}\n",
    "print(e)\n",
    "print(type(e))\n",
    "\n",
    "#tipo de dato sin tipo, parece una designacion rollo conjunto vacio o nullcharachter\n",
    "#lo mismo que con el diccionario\n",
    "None\n",
    "type(None)\n"
   ]
  },
  {
   "cell_type": "code",
   "execution_count": null,
   "metadata": {},
   "outputs": [],
   "source": []
  }
 ]
}