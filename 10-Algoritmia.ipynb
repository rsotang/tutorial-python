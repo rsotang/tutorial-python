{
 "metadata": {
  "language_info": {
   "codemirror_mode": {
    "name": "ipython",
    "version": 3
   },
   "file_extension": ".py",
   "mimetype": "text/x-python",
   "name": "python",
   "nbconvert_exporter": "python",
   "pygments_lexer": "ipython3",
   "version": "3.9.0-final"
  },
  "orig_nbformat": 2,
  "kernelspec": {
   "name": "python3",
   "display_name": "Python 3.9.0 64-bit",
   "metadata": {
    "interpreter": {
     "hash": "8b50c36b1a33f6cb46e2526f835ef1ab8287e96c456ed044702ee8742d8def96"
    }
   }
  }
 },
 "nbformat": 4,
 "nbformat_minor": 2,
 "cells": [
  {
   "source": [
    "# Condicionales\n"
   ],
   "cell_type": "markdown",
   "metadata": {}
  },
  {
   "source": [
    "x = 35 #input('introduce un numero')\n",
    "\n",
    "if x < 30 :  #hay que tabular la sentencia despues del condicional\n",
    "    print('el numero introducido es menor que 30')\n",
    "else:\n",
    "    print('el numero introducido es mayor que 30')\n",
    "\n",
    "#las sentencias de comparacion son validas para cualquier clase de datos\n",
    "#aunque no se muy bien como funcionara con arrays de distintos tipos\n",
    "\n",
    "#aparte de estas sentncias tenemos elif que es else: if :\n",
    "\n",
    "color = \"blue\"\n",
    "\n",
    "if color == \"red\":\n",
    "     print('el color es red')\n",
    "elif color == 'blue':\n",
    "    print('el color es blue')\n",
    "else :\n",
    "    print ('any color')\n",
    "\n",
    "#como python lleva bastante mal lo de usar llaves, los entornos dependen de las indentaciones de los espaciados de las sentencias es decir en vez de if {} tenemos que hacer if enter tab\n",
    "\n",
    "#los operadores lógicos en python tienen la siguientes formas\n",
    "\n",
    "x=25 #los operadores logicos son and, or, not\n",
    "if x > 2 and x < 10:\n",
    "    print('illo yo que se')\n",
    "\n",
    "#otra estructura condicional más avanzada es try/except se utiliza con codigo que puede fallar o compilar mal, y ejecuta una version o lineas alternativas de codigo en caso de que eso ocurra con try except el compilador sigue funcionando teniendo eso en cuenta\n",
    "\n",
    "ejemplo = 'Hello world'\n",
    "try:\n",
    "    ejemplo = ejemplo +1 \n",
    "\n",
    "    #esto no va a funcionar porqe estamos sumando a una string\n",
    "    print(ejemplo)\n",
    "\n",
    "except:\n",
    "    ejemplo = 'error'\n",
    "    print(ejemplo)\n",
    "\n",
    "try:\n",
    "    ejemplo= 'esto funciona'\n",
    "    print(ejemplo)\n",
    "\n",
    "except:\n",
    "    ejemplo = 'error'\n",
    "    print(ejemplo)\n",
    "\n",
    "#esto es util en interfaces e interacciones de usuario, en las que este tiene que introducir datos de distinto tipo que puede afectar al codigo\n"
   ],
   "cell_type": "code",
   "metadata": {},
   "execution_count": null,
   "outputs": []
  },
  {
   "source": [
    "# Bucles"
   ],
   "cell_type": "markdown",
   "metadata": {}
  },
  {
   "cell_type": "code",
   "execution_count": null,
   "metadata": {},
   "outputs": [],
   "source": [
    "food =['illo','yoques','hermano','que yo ya no','estoy pa estas cosas']\n",
    "\n",
    "#los bucles en python funcionan de una forma muy abstracta comparada con c, este tipo de bucle toma una variable interna que llamamos como queremos (i) y utiliza un objeto de referencia, entiendo que tiene que ser un array e itera dentro de array de forma entera con el indice que hemos llamado como referencia\n",
    "\n",
    "for i in food: \n",
    "    if i == 'illo':\n",
    "        #break rompe ciclos\n",
    "        continue # salta esta iteracion correspondiente a la sentencia\n",
    "    print(i)\n",
    "\n",
    "\n",
    "for i in range(1,7) :#recordemos que range te da una lista iterada\n",
    "    print(i)\n",
    "\n",
    "count = 0\n",
    "while count <=5:\n",
    "    print(count)\n",
    "    count=count+1\n",
    "\n",
    "#conviene recordar que while es una esencialmente un if do con una variable lógica, por lo que while True es por definición un bucle infinito hasta que de forma externa lo definamos para parar.\n",
    "\n",
    "#aparte de esto vamos a hacer unos bucles canónicos como ejemplo\n",
    "\n",
    "#comparativa de cardinal de números, con una estructura similar a las utilizadas en C\n",
    "\n",
    "largest_so_far=-1\n",
    "\n",
    "cosa=[3,41,15,9,74,15]\n",
    "\n",
    "for i in range(1,len(cosa)):\n",
    "\n",
    "    if cosa[i]>largest_so_far:\n",
    "        largest_so_far=cosa[i]\n",
    "\n",
    "print(largest_so_far)\n",
    "\n",
    "#una variante más commpleja para el elemento más pequeño is es una asignación lógica como == pero que permite asignar compara con el tipo de variable \n",
    "\n",
    "#en este caso, al principio de la iteracion, itervar toma el valor del elemento correspondiente del elemento enumerable, lo que lo convierte en una variable temporal dentro del bucle.\n",
    "\n",
    "\n",
    "smallest = None\n",
    "print(\"Before:\", smallest)\n",
    "for itervar in [3, 41, 12, 9, 74, 15]:\n",
    "    if smallest is None or itervar < smallest:\n",
    "        smallest = itervar\n",
    "      \n",
    "    print(\"Loop:\", itervar, smallest)\n",
    "print(\"Smallest:\", smallest)\n"
   ]
  }
 ]
}