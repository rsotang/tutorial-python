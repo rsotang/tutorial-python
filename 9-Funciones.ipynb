{
 "metadata": {
  "language_info": {
   "codemirror_mode": {
    "name": "ipython",
    "version": 3
   },
   "file_extension": ".py",
   "mimetype": "text/x-python",
   "name": "python",
   "nbconvert_exporter": "python",
   "pygments_lexer": "ipython3",
   "version": 3
  },
  "orig_nbformat": 2
 },
 "nbformat": 4,
 "nbformat_minor": 2,
 "cells": [
  {
   "source": [
    "# Funciones"
   ],
   "cell_type": "markdown",
   "metadata": {}
  },
  {
   "cell_type": "code",
   "execution_count": null,
   "metadata": {},
   "outputs": [],
   "source": [
    "#ahora vamos a crear nuestras propias funciones fuera del compilador de python creo que se pueden incluir librerias externas de funciones y metodos, pero de momento vamos a aprender como funcionan de normal\n",
    "\n",
    "#definimos una funcion con def + : las funciones las tenemos que definir con sus parametros entre parentesis si los dejamos vacios no toma parametros,y parametros múltiples van separados por ,\n",
    "\n",
    "def algo():\n",
    "    return 'illo yo que se'\n",
    "\n",
    "print(algo())\n",
    "\n",
    "def algoMas(cosa):\n",
    "    print(cosa + ' gordo de los cojones que eres mas gordo que unos cojones')\n",
    "\n",
    "x = input('mete lo que quieras hermano \\n')\n",
    "algoMas(x)\n",
    "\n",
    "#se pueden escribir funciones mas compactas sin nombre y sin def con lambada\n",
    "\n",
    "illooo=lambda: 'illooooo'\n",
    "\n",
    "print(illooo)\n",
    "\n"
   ]
  }
 ]
}