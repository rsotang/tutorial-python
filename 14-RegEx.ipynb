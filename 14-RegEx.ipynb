{
 "metadata": {
  "language_info": {
   "codemirror_mode": {
    "name": "ipython",
    "version": 3
   },
   "file_extension": ".py",
   "mimetype": "text/x-python",
   "name": "python",
   "nbconvert_exporter": "python",
   "pygments_lexer": "ipython3",
   "version": "3.9.0"
  },
  "orig_nbformat": 2,
  "kernelspec": {
   "name": "python3",
   "display_name": "Python 3.9.0 64-bit",
   "metadata": {
    "interpreter": {
     "hash": "8b50c36b1a33f6cb46e2526f835ef1ab8287e96c456ed044702ee8742d8def96"
    }
   }
  }
 },
 "nbformat": 4,
 "nbformat_minor": 2,
 "cells": [
  {
   "source": [
    "# Regular Expresions\n"
   ],
   "cell_type": "markdown",
   "metadata": {}
  },
  {
   "source": [
    "Vamos a hacer una introducción a expresiones regulares para un tratamiento de strings más eficiente y exahustivo.\n",
    "\n",
    "Las expresiones regulares se utilizan con la libreria re propia de python.\n"
   ],
   "cell_type": "markdown",
   "metadata": {}
  },
  {
   "cell_type": "code",
   "execution_count": 3,
   "metadata": {},
   "outputs": [],
   "source": [
    "import re"
   ]
  },
  {
   "source": [
    "Las regexp son sentencias muy potentes a cambio de ser muy crípiticas\n",
    "\n",
    "### Guia rapida de lo que significa cada simbolo en una expresion regular\n",
    "\n",
    "Esto son solo algunos: \n",
    "\n",
    " - las letras reservadas se introducen con una barra \n",
    "    i.e \\s-->\\\\s\n",
    "\n",
    "- para utilizar los caracteres reservados como caracteres a buscar los precedemos de \\ \n",
    "    i.e \\$\n",
    "\n",
    "- ^ principio de linea\n",
    "- $ final de linea\n",
    "- . cualquier caracter\n",
    "- \\s caracter espaciado\n",
    "- \\S caracter que no sea espaciado \n",
    "- * repite un caracter 0 o mas veces\n",
    "- *?  \"\" pero non greedy\n",
    "- + repite un caracter 1  o mas veces\n",
    "- +? \"\" pero non greedy\n",
    "- \\[aeiou\\] encuentra un unico caracter de este set especificado\n",
    "- \\[^aeioug\\] encuentra un unico caracter que no se encuentre en      el set\n",
    "- \\[a-e-u\\] el set de caracteres puede especificarse como un rango\n",
    "- ( indica donde empieza la extraccion de strings\n",
    "- ) indica donde acaba la extraccion de strings\n",
    "\n",
    "Usamos re.search() para ver si una string match una regex,usamos re.findall() para extraer porciones de strings que coincidan con regex.\n",
    "\n",
    "Usamos re.search() como find() "
   ],
   "cell_type": "markdown",
   "metadata": {}
  },
  {
   "cell_type": "code",
   "execution_count": 4,
   "metadata": {},
   "outputs": [
    {
     "output_type": "error",
     "ename": "FileNotFoundError",
     "evalue": "[Errno 2] No such file or directory: 'mbox-short.txt'",
     "traceback": [
      "\u001b[1;31m---------------------------------------------------------------------------\u001b[0m",
      "\u001b[1;31mFileNotFoundError\u001b[0m                         Traceback (most recent call last)",
      "\u001b[1;32m<ipython-input-4-9aea1104ee81>\u001b[0m in \u001b[0;36m<module>\u001b[1;34m\u001b[0m\n\u001b[0;32m      1\u001b[0m \u001b[1;31m#ejemplo find\u001b[0m\u001b[1;33m\u001b[0m\u001b[1;33m\u001b[0m\u001b[1;33m\u001b[0m\u001b[0m\n\u001b[1;32m----> 2\u001b[1;33m \u001b[0mhand\u001b[0m \u001b[1;33m=\u001b[0m \u001b[0mopen\u001b[0m \u001b[1;33m(\u001b[0m\u001b[1;34m'mbox-short.txt'\u001b[0m\u001b[1;33m)\u001b[0m\u001b[1;33m\u001b[0m\u001b[1;33m\u001b[0m\u001b[0m\n\u001b[0m\u001b[0;32m      3\u001b[0m \u001b[1;32mfor\u001b[0m \u001b[0mline\u001b[0m \u001b[1;32min\u001b[0m \u001b[0mhand\u001b[0m\u001b[1;33m:\u001b[0m\u001b[1;33m\u001b[0m\u001b[1;33m\u001b[0m\u001b[0m\n\u001b[0;32m      4\u001b[0m     \u001b[0mline\u001b[0m \u001b[1;33m=\u001b[0m \u001b[0mline\u001b[0m\u001b[1;33m.\u001b[0m\u001b[0mrstrip\u001b[0m\u001b[1;33m(\u001b[0m\u001b[1;33m)\u001b[0m\u001b[1;33m\u001b[0m\u001b[1;33m\u001b[0m\u001b[0m\n\u001b[0;32m      5\u001b[0m     \u001b[1;32mif\u001b[0m \u001b[0mline\u001b[0m\u001b[1;33m.\u001b[0m\u001b[0mfind\u001b[0m\u001b[1;33m(\u001b[0m\u001b[1;34m'From:'\u001b[0m\u001b[1;33m)\u001b[0m\u001b[1;33m>=\u001b[0m\u001b[1;36m0\u001b[0m\u001b[1;33m:\u001b[0m\u001b[1;33m\u001b[0m\u001b[1;33m\u001b[0m\u001b[0m\n",
      "\u001b[1;31mFileNotFoundError\u001b[0m: [Errno 2] No such file or directory: 'mbox-short.txt'"
     ]
    }
   ],
   "source": [
    "#ejemplo find \n",
    "hand = open ('mbox-short.txt')\n",
    "for line in hand:\n",
    "    line = line.rstrip()\n",
    "    if line.find('From:')>=0:\n",
    "        print(line)\n",
    "\n",
    "#lo mismo pero con re.search()\n",
    "hand = open('mbox-short.txt')\n",
    "for line in hand:\n",
    "    line = line.rstrip()\n",
    "    if re.search('From:', line):\n",
    "        print(line)\n",
    "\n",
    "#usamos re.search() como startswith()\n",
    "hand = open('mbox-short.txt')\n",
    "for line in hand:\n",
    "    line = line.rstrip()\n",
    "    if line.startswith('From:'):\n",
    "        print(line)\n",
    "\n",
    "hand = open('mbox-short.txt')\n",
    "for line in hand:\n",
    "    line = line.rstrip()\n",
    "    if re.search('^From:', line):\n",
    "        print(line)"
   ]
  },
  {
   "cell_type": "code",
   "execution_count": null,
   "metadata": {},
   "outputs": [],
   "source": [
    "#Podemos utilizar los caracteres especiales para dar instrucciones en las expresiones regulares,por ejemplo\n",
    "\n",
    "re.search('^X.*:', line) \n",
    "\n",
    "#significa busca dentro de line, que empiece con X y vaya seguido de muchos, caracteres distintos hasta un : \n",
    "\n",
    "#osea (empieza con)X(seguido de un caracter arbitrario)(muchas veces):\n",
    "\n",
    "#para ser mas especificos en el match añadimos más caracteres de los ya explicados\n"
   ]
  },
  {
   "cell_type": "code",
   "execution_count": null,
   "metadata": {},
   "outputs": [],
   "source": [
    "#para extraer la información y asignarla utilizamos las mismas expresiones \n",
    "#pero con el meotodo re.findall()\n",
    "\n",
    "x = 'My favorite numbers are 19 and 42'\n",
    "y = re.findall('[0-9]+',x)\n",
    "\n",
    "#esto significa (un caracter en el rango 0-9 osease un digito)(uno o mas del mimso)\n",
    "#es decir busca varios digitos en el seguidos en la string\n",
    "\n",
    "#tenemos que hablar del greedy matching, los caracteres de repeticion\n",
    "#escanean en ambas direcciones del string para encotrar el match lo \n",
    "#más grande posible\n",
    "\n",
    "x = 'From: Using the:'\n",
    "y = re.findall('^F.+:',x)\n",
    "\n",
    "#esto significa (empieza con)F(cualquier caracter)(1 o más veces):\n",
    "#este codigo encuentra cualquier de las dos cosas \n",
    "#para ello vamos a utilizar\n",
    "\n",
    "y= re.findall('^F.+?:',x)\n",
    "\n",
    "#para refinar la porcioón del match que queremos extraer podemos utilizar parentesis\n",
    "#dentro de la expresión regular\n",
    "\n",
    "y = re.findall('^From (\\\\S+@\\\\S+)',x)\n",
    "\n",
    "#esto implica encuentra un match con (empieza con)From(espacio)\n",
    "#(caracter no espaciado)(multiples veces)@(caracter no espaciado)\n",
    "#(multiples veces) y despues extrae solo lo que está entre parentesis\n"
   ]
  },
  {
   "cell_type": "code",
   "execution_count": null,
   "metadata": {},
   "outputs": [],
   "source": [
    "#ejemplos de parsing de strings con regexp\n",
    "\n",
    "#extrayendo un hostname con find() si string slicing\n",
    "data = 'From stephen.marquard@uct.ac.za Sat Jan  5 09:14:16 2008'\n",
    "atpos=data.find('@')\n",
    "spacepos=data.find(' ')\n",
    "host=data[atpos+1 : spacepos]\n",
    "\n",
    "#lo mismo con double split\n",
    "words = line.split()\n",
    "email= words[1]\n",
    "pieces=email.split('@')\n",
    "host = pieces[1]\n",
    "\n",
    "#lo mismo con regexp\n",
    "\n",
    "host = re.findall('^From .*@(\\\\S*)',data)"
   ]
  },
  {
   "cell_type": "code",
   "execution_count": null,
   "metadata": {},
   "outputs": [],
   "source": [
    "#cuando el metodo falla, produce una lista vacia, por lo que podemos utilizar\n",
    "#esa propiedad en algoritmos de parsing\n",
    "\n",
    "for line in hand:\n",
    "    line = line.rstrip()\n",
    "    stuff = re.findall('^cosas-([0-9])',line)\n",
    "    if len(stuff) != 1 :\n",
    "        continue\n",
    "    \n",
    "#con esta ultima linea nos aseguramos que los match que nos de el findall\n",
    "#sean los que buscamos\n",
    "\n",
    "#otro metodo interesante para programación en objetos es re.compile()\n",
    "#este metodo solo convierte la string en una expresion regular usable\n",
    "#por otros objetos de cualquier tipo\n",
    "\n",
    "re.compile('string')"
   ]
  }
 ]
}