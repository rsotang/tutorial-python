{
 "metadata": {
  "language_info": {
   "codemirror_mode": {
    "name": "ipython",
    "version": 3
   },
   "file_extension": ".py",
   "mimetype": "text/x-python",
   "name": "python",
   "nbconvert_exporter": "python",
   "pygments_lexer": "ipython3",
   "version": 3
  },
  "orig_nbformat": 2
 },
 "nbformat": 4,
 "nbformat_minor": 2,
 "cells": [
  {
   "source": [
    "# Manipulación de archivos"
   ],
   "cell_type": "markdown",
   "metadata": {}
  },
  {
   "cell_type": "code",
   "execution_count": null,
   "metadata": {},
   "outputs": [],
   "source": [
    "#para comunicarnos con archivos la mecanica es similar a c pero con funciones preconstruidas en vez de con un pointer y argumentos open()\n",
    "\n",
    "#open devuelve una variable usada para manipular el file\n",
    "\n",
    "filehandle=open(filename,mode)\n",
    "\n",
    "#los archivos solo pueden soportar una instruccion al tiempo, asi que cada vez que se hace algo con ellos hay que cerrar la instancia y abrir una nueva\n",
    "\n",
    "fhandle = open('caca.txt')\n",
    "\n",
    "print(fhandle)\n",
    "\n",
    "#los archivos en python se tratan como secuencias de lineas\n",
    "\n",
    "#python interpreta cada linea como un elemento independiente lo que simplifica mucho el trabajo\n",
    "\n",
    "count = 0\n",
    "\n",
    "for line in fhandle:\n",
    "    count = count + 1\n",
    "\n",
    "print('numero de lineas en el file:',count)\n",
    "\n",
    "#una vez hemos terminado con el archivo utilizamos el metodo .close()\n",
    "\n",
    "fhandle.close()\n",
    "\n",
    "#al igual que en c hay varias formas de leer y escribir\n",
    "\n",
    "#los metodos de los archivos se encargan de ello .read() lee todo el archivo de una vez\n",
    "\n",
    "fhandle = open('caca.txt')\n",
    "inp = fhandle.read()\n",
    "\n",
    "print(len(inp))\n",
    "print(inp[:2])\n",
    "fhandle.close()\n",
    "\n",
    "#para buscar cosas en archivos utilizamos los mismos tipos de algoritmos que en c (es comun al leer lineas de archivos quitar los saltos de linea sobrante con rstrip al final de la linea) \n",
    "\n",
    "for line in file:\n",
    "    line= line.rstrip()\n",
    "\n",
    "#tambien hay buenas conductas que se pueden implementar en el codigo cuando interactuamos con input del usuario\n",
    "\n",
    "fname=input('mete el nombre del archivo: ')\n",
    "\n",
    "try:\n",
    "    fhandle = open(fname)\n",
    "except:\n",
    "    print('no se puede abrir')\n",
    "    quit()"
   ]
  }
 ]
}