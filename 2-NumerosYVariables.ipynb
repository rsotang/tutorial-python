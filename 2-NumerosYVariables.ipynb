{
 "metadata": {
  "language_info": {
   "codemirror_mode": {
    "name": "ipython",
    "version": 3
   },
   "file_extension": ".py",
   "mimetype": "text/x-python",
   "name": "python",
   "nbconvert_exporter": "python",
   "pygments_lexer": "ipython3",
   "version": "3.9.0-final"
  },
  "orig_nbformat": 2,
  "kernelspec": {
   "name": "python3",
   "display_name": "Python 3.9.0 64-bit",
   "metadata": {
    "interpreter": {
     "hash": "8b50c36b1a33f6cb46e2526f835ef1ab8287e96c456ed044702ee8742d8def96"
    }
   }
  }
 },
 "nbformat": 4,
 "nbformat_minor": 2,
 "cells": [
  {
   "source": [
    "# Números y operaciones"
   ],
   "cell_type": "markdown",
   "metadata": {}
  },
  {
   "source": [
    "Las operaciones más elementales se pueden hacer en el propio codigo de forma interna, sin necesidad de imprimirlas por pantalla, es la facilidad de un lenguaje interpretado\n"
   ],
   "cell_type": "markdown",
   "metadata": {}
  },
  {
   "cell_type": "code",
   "execution_count": 1,
   "metadata": {},
   "outputs": [
    {
     "output_type": "stream",
     "name": "stdout",
     "text": [
      "1 cosas\n"
     ]
    }
   ],
   "source": [
    "#python es case sensitive, o lo que es lo mismo, las mayusculas afectan\n",
    "#además al igual que en C, tambien es number sensitive.\n",
    "\n",
    "#las variables individuales se pueden evaluar como arrays\n",
    "\n",
    "x,y=1,\"cosas\"\n",
    "print(x,y)\n",
    "\n",
    "#convenciones de escritura de variables\n",
    "\n",
    "#para facilitar la lectura de código, los nombres de las variables compuestas\n",
    "#se capitalizan o separan con barrabaja\n",
    "\n",
    "#las constanes se capitalizan por completo, aunque se definen como variables\n",
    "#y por lo tanto son susceptibles de cambio\n",
    "\n",
    "cosas_chungas= 555 #snake case\n",
    "cosasChungas=\"eeeeeey\" #Camel case\n",
    "\n",
    "PI = 3.1415\n",
    "\n",
    "#como el lenguaje es dinámico e interpretado, no necesitas predefinir\n",
    "#el tipo de variable antes de asignarle un tipo de dato\n",
    "#por lo tanto a cualquier variable asignada con cualquier tipo de dato\n",
    "#se le puede reasignar cualquier otro tipo de dato sobre la marcha\n",
    "\n",
    "aaaaaa = 6\n",
    "aaaaaa = \"dolor\"\n"
   ]
  },
  {
   "cell_type": "code",
   "execution_count": 1,
   "metadata": {},
   "outputs": [
    {
     "output_type": "execute_result",
     "data": {
      "text/plain": [
       "1"
      ]
     },
     "metadata": {},
     "execution_count": 1
    }
   ],
   "source": [
    "#operaciones básicas, validas para mismos tipos de variables\n",
    "1+1\n",
    "1-1\n",
    "1*3\n",
    "7/2\n",
    "\n",
    "5**5 #elevar a \n",
    "\n",
    "5//2 #division entera\n",
    "\n",
    "5%2 #operación resto o módulo\n",
    "\n",
    "\n",
    "\n"
   ]
  },
  {
   "source": [
    "## Introducción de variables"
   ],
   "cell_type": "markdown",
   "metadata": {}
  },
  {
   "cell_type": "code",
   "execution_count": 2,
   "metadata": {},
   "outputs": [
    {
     "output_type": "stream",
     "name": "stdout",
     "text": [
      "12\n"
     ]
    }
   ],
   "source": [
    "age=input(\"Introduce tu edad: \") \n",
    "#input es una secuencia de print y scanf\n",
    "\n",
    "#por defecto se introducen strings, para cambiar de class hay que cambiar de variable\n",
    "\n",
    "print(age)\n"
   ]
  },
  {
   "cell_type": "code",
   "execution_count": 3,
   "metadata": {},
   "outputs": [
    {
     "output_type": "stream",
     "name": "stdout",
     "text": [
      "tu nueva edad es 37\n"
     ]
    }
   ],
   "source": [
    "new_age=int(age)+25\n",
    "print(f\"tu nueva edad es {new_age}\")\n",
    "\n",
    "#para cambiar de tipo de variable a otra se utiliza la funcion con el nombre \n",
    "#del tipo de variable, por defecto el input es una string"
   ]
  },
  {
   "cell_type": "code",
   "execution_count": null,
   "metadata": {},
   "outputs": [],
   "source": []
  }
 ]
}