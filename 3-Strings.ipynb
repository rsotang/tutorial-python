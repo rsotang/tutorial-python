{
 "metadata": {
  "language_info": {
   "codemirror_mode": {
    "name": "ipython",
    "version": 3
   },
   "file_extension": ".py",
   "mimetype": "text/x-python",
   "name": "python",
   "nbconvert_exporter": "python",
   "pygments_lexer": "ipython3",
   "version": "3.9.0-final"
  },
  "orig_nbformat": 2,
  "kernelspec": {
   "name": "python3",
   "display_name": "Python 3.9.0 64-bit",
   "metadata": {
    "interpreter": {
     "hash": "8b50c36b1a33f6cb46e2526f835ef1ab8287e96c456ed044702ee8742d8def96"
    }
   }
  }
 },
 "nbformat": 4,
 "nbformat_minor": 2,
 "cells": [
  {
   "source": [
    "# Strings "
   ],
   "cell_type": "markdown",
   "metadata": {}
  },
  {
   "source": [
    "Ahora exponemos una de los features mas interesantes de python, que son la cantidad de funciónes y metodos precontruidos que se pueden utilizar como herramientas."
   ],
   "cell_type": "markdown",
   "metadata": {}
  },
  {
   "cell_type": "code",
   "execution_count": 1,
   "metadata": {},
   "outputs": [
    {
     "output_type": "stream",
     "name": "stdout",
     "text": [
      "['__add__', '__class__', '__contains__', '__delattr__', '__dir__', '__doc__', '__eq__', '__format__', '__ge__', '__getattribute__', '__getitem__', '__getnewargs__', '__gt__', '__hash__', '__init__', '__init_subclass__', '__iter__', '__le__', '__len__', '__lt__', '__mod__', '__mul__', '__ne__', '__new__', '__reduce__', '__reduce_ex__', '__repr__', '__rmod__', '__rmul__', '__setattr__', '__sizeof__', '__str__', '__subclasshook__', 'capitalize', 'casefold', 'center', 'count', 'encode', 'endswith', 'expandtabs', 'find', 'format', 'format_map', 'index', 'isalnum', 'isalpha', 'isascii', 'isdecimal', 'isdigit', 'isidentifier', 'islower', 'isnumeric', 'isprintable', 'isspace', 'istitle', 'isupper', 'join', 'ljust', 'lower', 'lstrip', 'maketrans', 'partition', 'removeprefix', 'removesuffix', 'replace', 'rfind', 'rindex', 'rjust', 'rpartition', 'rsplit', 'rstrip', 'split', 'splitlines', 'startswith', 'strip', 'swapcase', 'title', 'translate', 'upper', 'zfill']\nHello world\nhELLO wORLD\nHello World\n<built-in method capitalize of str object at 0x000002F564F16530>\n0\nFalse\n['Hello', 'World']\n4\n11\nl\nHello Worldweno en realidad no\nHello World illo yo que se\nillo yo que se Hello World\nll\nHell\nllo World\nasi es gfa\n"
     ]
    },
    {
     "output_type": "execute_result",
     "data": {
      "text/plain": [
       "'Hello World'"
      ]
     },
     "metadata": {},
     "execution_count": 1
    }
   ],
   "source": [
    "myStr=\"Hello World\"\n",
    "\n",
    "# el comando dir nos da una lista de propiedas del objeto que se la asigna\n",
    "# asi como las características de este que se pueden cambiar\n",
    "\n",
    "dir(myStr)\n",
    "print(dir(myStr))\n",
    "\n",
    "#una vez sabemos que tipo de propiedades tiene nuestro elemento, cambiarlo\n",
    "#es tan sencillo como añadir .propiedad() al final de la variable\n",
    "# o por lo menos lo es con las strings\n",
    "\n",
    "print(myStr.capitalize())\n",
    "print(myStr.swapcase())\n",
    "\n",
    "#estas propiedades se cambian mediante comandos que parecen ejecutar\n",
    "#pequeños algoritmos a un nivel más bajo, muchos de esstos comandos toman,\n",
    "#pequeñas partes de la variable de entrada como subvariables \n",
    "\n",
    "print(myStr.replace('hello','bye'))\n",
    "\n",
    "#las funciones que cambian propiedades también se pueden empalmar entre si\n",
    "\n",
    "print(myStr.replace('hello','caca').capitalize)\n",
    "\n",
    "#otras funciones y usos relevantes\n",
    "\n",
    "print(myStr.count('a'))\n",
    "print(myStr.startswith('holabuenastardes')) #el output es un booleano\n",
    "print(myStr.split())\n",
    "\n",
    "#esta función por defecto separa strings basado en \n",
    "#espacios pero evaluandolo puede basarse en cualquier caracter para \n",
    "#separar. el output es una lista del strings\n",
    "\n",
    "print(myStr.find('o'))\n",
    "\n",
    "#busca el prime elemento que coincida y le da un valor numérico como si \n",
    "#se tratase de un array, donde el primer lugar es 0 y el final del array \n",
    "#es nullcharacter ocupando también un espacio\n",
    "\n",
    "print(len(myStr))\n",
    "\n",
    "#las variables string se pueden estudiar y analizar como arrays\n",
    "#por lo que a la hora de buscar un elemento de este los identificamos de la\n",
    "#misma forma, a diferencia que con c, podemos tener direcciones negativas, \n",
    "#relativas al cero, que funcionan de la misma forma\n",
    "\n",
    "#sin embargo las strings son inmutables y no podemos cambiar cosas \n",
    "#dento de la string como  si fuese un array\n",
    "\n",
    "print(myStr[2])\n",
    "\n",
    "#las operaciones con strings son sencillas por ser un lenguaje interpretado\n",
    "print(myStr+\"weno en realidad no\")\n",
    "\n",
    "#para evaluar en el print como en c\n",
    "print(f'{myStr} illo yo que se')\n",
    "print('illo yo que se {0}'.format(myStr))\n",
    "\n",
    "#tambien podemos extraer segmentos enteros de una string con : seleccionando\n",
    "#un intervalo de posiciones del array\n",
    "\n",
    "print(myStr[2:4])\n",
    "print(myStr[:4])\n",
    "print(myStr[2:])\n",
    "\n",
    "#aqui también aparece el operador in que comprime las sentencias is smth in smthelse \n",
    "if 'H' in myStr:\n",
    "    print ('asi es gfa')\n",
    "\n",
    "#hay tambien metodos de strings que agrupan cosas teniendo en cuenta \n",
    "#los espacios de las strings\n",
    "\n",
    "myStr.lstrip() #mueve los espacios a la izquierda\n",
    "myStr.rstrip() #mueve los espacios a la derechac\n",
    "myStr.strip()  #quita los espacios que no separen palabras del string"
   ]
  }
 ]
}