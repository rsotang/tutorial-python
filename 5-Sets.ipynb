{
 "metadata": {
  "language_info": {
   "codemirror_mode": {
    "name": "ipython",
    "version": 3
   },
   "file_extension": ".py",
   "mimetype": "text/x-python",
   "name": "python",
   "nbconvert_exporter": "python",
   "pygments_lexer": "ipython3",
   "version": "3.9.0-final"
  },
  "orig_nbformat": 2,
  "kernelspec": {
   "name": "python3",
   "display_name": "Python 3.9.0 64-bit",
   "metadata": {
    "interpreter": {
     "hash": "8b50c36b1a33f6cb46e2526f835ef1ab8287e96c456ed044702ee8742d8def96"
    }
   }
  }
 },
 "nbformat": 4,
 "nbformat_minor": 2,
 "cells": [
  {
   "source": [
    "# Sets "
   ],
   "cell_type": "markdown",
   "metadata": {}
  },
  {
   "source": [
    "Los sets son un tipo de datos menos usado, ya que son una version corta de los diccionarios"
   ],
   "cell_type": "markdown",
   "metadata": {}
  },
  {
   "cell_type": "code",
   "execution_count": 1,
   "metadata": {},
   "outputs": [
    {
     "output_type": "stream",
     "name": "stdout",
     "text": [
      "<class 'set'>\nTrue\n{'violet', 'red', 'green', 'blue'}\n{'violet', 'green', 'blue'}\nset()\n"
     ]
    }
   ],
   "source": [
    "#los sets son el class donde incluimos los diccionarios\n",
    "#los sets son grupos de datos sin orden definido a la hora de interactuar\n",
    "#con ellos\n",
    "#son conjuntos de datos en los que el orden no importa\n",
    "\n",
    "colors = {'red','blue','green'}\n",
    "print(type(colors))\n",
    "\n",
    "print('red' in colors)\n",
    "\n",
    "#a la hora de añadir terminos se añaden al inicio del set \n",
    "\n",
    "colors.add('violet')\n",
    "print(colors)\n",
    "\n",
    "colors.remove('red')\n",
    "print(colors)\n",
    "\n",
    "#vacia el set pero no lo elimina\n",
    "colors.clear()\n",
    "print(colors)    \n",
    "\n"
   ]
  }
 ]
}