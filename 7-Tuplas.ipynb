{
 "metadata": {
  "language_info": {
   "codemirror_mode": {
    "name": "ipython",
    "version": 3
   },
   "file_extension": ".py",
   "mimetype": "text/x-python",
   "name": "python",
   "nbconvert_exporter": "python",
   "pygments_lexer": "ipython3",
   "version": 3
  },
  "orig_nbformat": 2
 },
 "nbformat": 4,
 "nbformat_minor": 2,
 "cells": [
  {
   "source": [
    "# Tuplas"
   ],
   "cell_type": "markdown",
   "metadata": {}
  },
  {
   "source": [
    "Las tuplas es un tipo de dato estático (que no es modificable) que funciona como un array. Esencialmente es una lista, pero a nivel fundamental son distintos, asi que su uso puede ser más optimo en ciertos cálculos."
   ],
   "cell_type": "markdown",
   "metadata": {}
  },
  {
   "cell_type": "code",
   "execution_count": null,
   "metadata": {},
   "outputs": [],
   "source": [
    "#las tuplas son arrays cuyos huecos no son manipulables ni asignables\n",
    "x =(1,2,3)\n",
    "print(x)\n",
    "\n",
    "#tambien se puede generar de las misma forma que las listas con un constructor\n",
    "#de tuplas.\n",
    "#las tuplas de un solo elemento sin coma se consideran elementos de \n",
    "#la naturaleza de la tupla\n",
    "\n",
    "y=tuple((1,2,3))\n",
    "print(y)\n",
    "\n",
    "months=(\"January\",'February','March','April','May','June','July','August','September','October','November','Dicember')\n",
    "\n",
    "#métodos de tuplas\n",
    "print(dir(x))\n",
    "\n",
    "#el comando del +variable elemina la asignacion de una tupla, quizas tambien de una ista\n",
    "\n",
    "#tambien se pueden colocar tuplas como variables padre-hijo en un diccionario\n",
    "\n",
    "locations = {\n",
    "    (35.1112,45.12222):'illo yo que se',\n",
    "    (15.1245,45.15666):'lo mesmo ermano'\n",
    "}\n",
    "\n",
    "print(locations)\n",
    "\n",
    "#lo más interesante que se puede hacere con las tuplas se pueden utilizar\n",
    "#como elementos de asignación\n",
    "\n",
    "(x,y)= (4,'fred')\n",
    "\n",
    "#las tuplas tienen asignaciones interesantes entre diccionarios y ellas mismas\n",
    "\n",
    "tups = locations.items()\n",
    "\n",
    "#esto produce una lista de tuplas en las que se incluyen key y valor\n",
    "\n",
    "#además las tuplas al ser inmutables son comparables entre si \n",
    "\n",
    "#utilizando estas dos propiedades podemos hacer sorting de diccionarios\n",
    "\n",
    "#primero hacemos sorting de key pasando por .items()\n",
    "\n",
    "d={'a':1,'b':4,'c':2}\n",
    "d.items()\n",
    "sorted(d.items())\n",
    "\n",
    "#para hacer sorting de value hacemos un algoritmo un poco más largo\n",
    "\n",
    "\n",
    "d={'a':1,'b':4,'c':2}\n",
    "tmp=list()\n",
    "for k,v in d.items():\n",
    "    tmp.append((v,k))\n",
    "\n",
    "tmp = sorted(tmp)\n",
    "\n",
    "#una version más corta de este algorimo es\n",
    "\n",
    "c={'a':10,'b':1,'c':22}\n",
    "\n",
    "print(sorted([(v,k)for k,v in c.items()]))\n",
    "\n"
   ]
  }
 ]
}