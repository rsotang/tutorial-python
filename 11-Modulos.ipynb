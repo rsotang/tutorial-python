{
 "metadata": {
  "language_info": {
   "codemirror_mode": {
    "name": "ipython",
    "version": 3
   },
   "file_extension": ".py",
   "mimetype": "text/x-python",
   "name": "python",
   "nbconvert_exporter": "python",
   "pygments_lexer": "ipython3",
   "version": 3
  },
  "orig_nbformat": 2
 },
 "nbformat": 4,
 "nbformat_minor": 2,
 "cells": [
  {
   "source": [
    "# Módulos y Librerias\n"
   ],
   "cell_type": "markdown",
   "metadata": {}
  },
  {
   "cell_type": "code",
   "execution_count": null,
   "metadata": {},
   "outputs": [],
   "source": [
    "#los modulos son las librerias que nos permiten utilizar funciones diseñadas por otros pavos mazo de listos\n",
    "\n",
    "#hay tres tipos de modulos distintos\n",
    "# modulos propios\n",
    "# modulos de terceros\n",
    "# modulos de python\n",
    "\n",
    "#empezamos con los modulos preconstruidos de python\n",
    "\n",
    "#python trae una cantidad enorme de modulos que podemos buscar\n",
    "\n",
    "import datetime\n",
    "\n",
    "#en la documentación viene como se utlizan los metodos dentro de cada paquete pero se referencian primero a la libreria de la que provienen\n",
    "\n",
    "print(datetime.date.today())\n",
    "\n",
    "#otra forma mas comoda de utilizar metodos de una libreria es importar los metodos desde la libreria\n",
    "\n",
    "from datetime import timedelta,date \n",
    "\n",
    "print(date.today())\n",
    "\n",
    "#ahora vamos a importar funciones de una archivo que hemos creado nosotros\n",
    "\n",
    "import fmath\n",
    "\n",
    "fmath.add(1,3)\n",
    "#no estoy muy seguro todavia de si se pueden importar librerias desde cualquier parte del codigo\n",
    "\n",
    "#ahora vamos a descargar un modulo de terceros con pypi\n",
    "\n",
    "#el programa pip nos permite instalar codigo para el compilador pyhton\n",
    "\n",
    "#para ello buscamos en la libreria el comando de terminal a introducir\n",
    "\n",
    "#nosotros hemos hecho pip install colorama\n",
    "\n",
    "from colorama import Fore, Style,init\n",
    "init(convert=True)\n",
    "\n",
    "#hemos utilizado instrucciones complicadas que vienen explicadas en la\n",
    "\n",
    "#documentacion del paquete\n",
    "\n",
    "print(Fore.CYAN + 'hello world')\n"
   ]
  }
 ]
}